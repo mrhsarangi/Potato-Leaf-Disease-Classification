{
  "nbformat": 4,
  "nbformat_minor": 0,
  "metadata": {
    "colab": {
      "provenance": [],
      "gpuType": "T4"
    },
    "kernelspec": {
      "name": "python3",
      "display_name": "Python 3"
    },
    "language_info": {
      "name": "python"
    },
    "accelerator": "GPU"
  },
  "cells": [
    {
      "cell_type": "code",
      "source": [
        "! pip install -q kaggle"
      ],
      "metadata": {
        "id": "yS1PVDxnzvJL"
      },
      "execution_count": 1,
      "outputs": []
    },
    {
      "cell_type": "code",
      "source": [
        "from google.colab import files\n",
        "\n",
        "files.upload()"
      ],
      "metadata": {
        "colab": {
          "base_uri": "https://localhost:8080/",
          "height": 91
        },
        "id": "2xcWVoUZev6g",
        "outputId": "9919cb6f-b101-4c3c-cc4e-5b68549597dc"
      },
      "execution_count": 2,
      "outputs": [
        {
          "output_type": "display_data",
          "data": {
            "text/plain": [
              "<IPython.core.display.HTML object>"
            ],
            "text/html": [
              "\n",
              "     <input type=\"file\" id=\"files-1e29188d-7f24-4399-a79e-0cb2106bc642\" name=\"files[]\" multiple disabled\n",
              "        style=\"border:none\" />\n",
              "     <output id=\"result-1e29188d-7f24-4399-a79e-0cb2106bc642\">\n",
              "      Upload widget is only available when the cell has been executed in the\n",
              "      current browser session. Please rerun this cell to enable.\n",
              "      </output>\n",
              "      <script>// Copyright 2017 Google LLC\n",
              "//\n",
              "// Licensed under the Apache License, Version 2.0 (the \"License\");\n",
              "// you may not use this file except in compliance with the License.\n",
              "// You may obtain a copy of the License at\n",
              "//\n",
              "//      http://www.apache.org/licenses/LICENSE-2.0\n",
              "//\n",
              "// Unless required by applicable law or agreed to in writing, software\n",
              "// distributed under the License is distributed on an \"AS IS\" BASIS,\n",
              "// WITHOUT WARRANTIES OR CONDITIONS OF ANY KIND, either express or implied.\n",
              "// See the License for the specific language governing permissions and\n",
              "// limitations under the License.\n",
              "\n",
              "/**\n",
              " * @fileoverview Helpers for google.colab Python module.\n",
              " */\n",
              "(function(scope) {\n",
              "function span(text, styleAttributes = {}) {\n",
              "  const element = document.createElement('span');\n",
              "  element.textContent = text;\n",
              "  for (const key of Object.keys(styleAttributes)) {\n",
              "    element.style[key] = styleAttributes[key];\n",
              "  }\n",
              "  return element;\n",
              "}\n",
              "\n",
              "// Max number of bytes which will be uploaded at a time.\n",
              "const MAX_PAYLOAD_SIZE = 100 * 1024;\n",
              "\n",
              "function _uploadFiles(inputId, outputId) {\n",
              "  const steps = uploadFilesStep(inputId, outputId);\n",
              "  const outputElement = document.getElementById(outputId);\n",
              "  // Cache steps on the outputElement to make it available for the next call\n",
              "  // to uploadFilesContinue from Python.\n",
              "  outputElement.steps = steps;\n",
              "\n",
              "  return _uploadFilesContinue(outputId);\n",
              "}\n",
              "\n",
              "// This is roughly an async generator (not supported in the browser yet),\n",
              "// where there are multiple asynchronous steps and the Python side is going\n",
              "// to poll for completion of each step.\n",
              "// This uses a Promise to block the python side on completion of each step,\n",
              "// then passes the result of the previous step as the input to the next step.\n",
              "function _uploadFilesContinue(outputId) {\n",
              "  const outputElement = document.getElementById(outputId);\n",
              "  const steps = outputElement.steps;\n",
              "\n",
              "  const next = steps.next(outputElement.lastPromiseValue);\n",
              "  return Promise.resolve(next.value.promise).then((value) => {\n",
              "    // Cache the last promise value to make it available to the next\n",
              "    // step of the generator.\n",
              "    outputElement.lastPromiseValue = value;\n",
              "    return next.value.response;\n",
              "  });\n",
              "}\n",
              "\n",
              "/**\n",
              " * Generator function which is called between each async step of the upload\n",
              " * process.\n",
              " * @param {string} inputId Element ID of the input file picker element.\n",
              " * @param {string} outputId Element ID of the output display.\n",
              " * @return {!Iterable<!Object>} Iterable of next steps.\n",
              " */\n",
              "function* uploadFilesStep(inputId, outputId) {\n",
              "  const inputElement = document.getElementById(inputId);\n",
              "  inputElement.disabled = false;\n",
              "\n",
              "  const outputElement = document.getElementById(outputId);\n",
              "  outputElement.innerHTML = '';\n",
              "\n",
              "  const pickedPromise = new Promise((resolve) => {\n",
              "    inputElement.addEventListener('change', (e) => {\n",
              "      resolve(e.target.files);\n",
              "    });\n",
              "  });\n",
              "\n",
              "  const cancel = document.createElement('button');\n",
              "  inputElement.parentElement.appendChild(cancel);\n",
              "  cancel.textContent = 'Cancel upload';\n",
              "  const cancelPromise = new Promise((resolve) => {\n",
              "    cancel.onclick = () => {\n",
              "      resolve(null);\n",
              "    };\n",
              "  });\n",
              "\n",
              "  // Wait for the user to pick the files.\n",
              "  const files = yield {\n",
              "    promise: Promise.race([pickedPromise, cancelPromise]),\n",
              "    response: {\n",
              "      action: 'starting',\n",
              "    }\n",
              "  };\n",
              "\n",
              "  cancel.remove();\n",
              "\n",
              "  // Disable the input element since further picks are not allowed.\n",
              "  inputElement.disabled = true;\n",
              "\n",
              "  if (!files) {\n",
              "    return {\n",
              "      response: {\n",
              "        action: 'complete',\n",
              "      }\n",
              "    };\n",
              "  }\n",
              "\n",
              "  for (const file of files) {\n",
              "    const li = document.createElement('li');\n",
              "    li.append(span(file.name, {fontWeight: 'bold'}));\n",
              "    li.append(span(\n",
              "        `(${file.type || 'n/a'}) - ${file.size} bytes, ` +\n",
              "        `last modified: ${\n",
              "            file.lastModifiedDate ? file.lastModifiedDate.toLocaleDateString() :\n",
              "                                    'n/a'} - `));\n",
              "    const percent = span('0% done');\n",
              "    li.appendChild(percent);\n",
              "\n",
              "    outputElement.appendChild(li);\n",
              "\n",
              "    const fileDataPromise = new Promise((resolve) => {\n",
              "      const reader = new FileReader();\n",
              "      reader.onload = (e) => {\n",
              "        resolve(e.target.result);\n",
              "      };\n",
              "      reader.readAsArrayBuffer(file);\n",
              "    });\n",
              "    // Wait for the data to be ready.\n",
              "    let fileData = yield {\n",
              "      promise: fileDataPromise,\n",
              "      response: {\n",
              "        action: 'continue',\n",
              "      }\n",
              "    };\n",
              "\n",
              "    // Use a chunked sending to avoid message size limits. See b/62115660.\n",
              "    let position = 0;\n",
              "    do {\n",
              "      const length = Math.min(fileData.byteLength - position, MAX_PAYLOAD_SIZE);\n",
              "      const chunk = new Uint8Array(fileData, position, length);\n",
              "      position += length;\n",
              "\n",
              "      const base64 = btoa(String.fromCharCode.apply(null, chunk));\n",
              "      yield {\n",
              "        response: {\n",
              "          action: 'append',\n",
              "          file: file.name,\n",
              "          data: base64,\n",
              "        },\n",
              "      };\n",
              "\n",
              "      let percentDone = fileData.byteLength === 0 ?\n",
              "          100 :\n",
              "          Math.round((position / fileData.byteLength) * 100);\n",
              "      percent.textContent = `${percentDone}% done`;\n",
              "\n",
              "    } while (position < fileData.byteLength);\n",
              "  }\n",
              "\n",
              "  // All done.\n",
              "  yield {\n",
              "    response: {\n",
              "      action: 'complete',\n",
              "    }\n",
              "  };\n",
              "}\n",
              "\n",
              "scope.google = scope.google || {};\n",
              "scope.google.colab = scope.google.colab || {};\n",
              "scope.google.colab._files = {\n",
              "  _uploadFiles,\n",
              "  _uploadFilesContinue,\n",
              "};\n",
              "})(self);\n",
              "</script> "
            ]
          },
          "metadata": {}
        },
        {
          "output_type": "stream",
          "name": "stdout",
          "text": [
            "Saving kaggle.json to kaggle.json\n"
          ]
        },
        {
          "output_type": "execute_result",
          "data": {
            "text/plain": [
              "{'kaggle.json': b'{\"username\":\"hrudnarayansarangi\",\"key\":\"dd32554b2ae1abc9a5b3e49d370ca920\"}'}"
            ]
          },
          "metadata": {},
          "execution_count": 2
        }
      ]
    },
    {
      "cell_type": "code",
      "source": [
        "! mkdir ~/.kaggle\n",
        "! cp kaggle.json ~/.kaggle/"
      ],
      "metadata": {
        "id": "uTVQXEf_e3gW"
      },
      "execution_count": 3,
      "outputs": []
    },
    {
      "cell_type": "code",
      "source": [
        "! chmod 600 ~/.kaggle/kaggle.json"
      ],
      "metadata": {
        "id": "yka0yDnkfJOT"
      },
      "execution_count": 4,
      "outputs": []
    },
    {
      "cell_type": "code",
      "source": [
        "! kaggle datasets download -d rizwan123456789/potato-disease-leaf-datasetpld"
      ],
      "metadata": {
        "colab": {
          "base_uri": "https://localhost:8080/",
          "height": 0
        },
        "id": "z8Tth7qmgGnQ",
        "outputId": "78801aa1-520e-4243-d4d7-5db040871cfa"
      },
      "execution_count": 5,
      "outputs": [
        {
          "output_type": "stream",
          "name": "stdout",
          "text": [
            "Downloading potato-disease-leaf-datasetpld.zip to /content\n",
            " 99% 37.0M/37.4M [00:01<00:00, 36.8MB/s]\n",
            "100% 37.4M/37.4M [00:01<00:00, 25.6MB/s]\n"
          ]
        }
      ]
    },
    {
      "cell_type": "code",
      "source": [
        "from zipfile import ZipFile\n",
        "\n",
        "\n",
        "zf = ZipFile('potato-disease-leaf-datasetpld.zip')\n",
        "zf.extractall()\n",
        "zf.close()"
      ],
      "metadata": {
        "id": "DwDQwQI5g63X"
      },
      "execution_count": 6,
      "outputs": []
    },
    {
      "cell_type": "code",
      "source": [
        "from tensorflow.keras.preprocessing.image import ImageDataGenerator\n",
        "\n",
        "\n",
        "train_data_gen = ImageDataGenerator(\n",
        "    rescale = 1./255,\n",
        "    rotation_range = 0.2,\n",
        "    width_shift_range = 0.2,\n",
        "    height_shift_range = 0.2,\n",
        "    shear_range = 0.2,\n",
        "    zoom_range = 0.2,\n",
        "    horizontal_flip = True,\n",
        "    vertical_flip = True\n",
        ")\n",
        "\n",
        "val_data_gen = ImageDataGenerator(rescale=1./255)\n",
        "\n",
        "train_data = train_data_gen.flow_from_directory('PLD_3_Classes_256/Training',\n",
        "                                                target_size = (224, 224),\n",
        "                                                batch_size = 32,\n",
        "                                                class_mode = 'categorical')\n",
        "val_data = val_data_gen.flow_from_directory('PLD_3_Classes_256/Validation',\n",
        "                                                target_size = (224, 224),\n",
        "                                                batch_size = 32,\n",
        "                                                class_mode = 'categorical')\n",
        "test_data = val_data_gen.flow_from_directory('PLD_3_Classes_256/Testing',\n",
        "                                                target_size = (224, 224),\n",
        "                                                batch_size = 32,\n",
        "                                                class_mode = 'categorical')"
      ],
      "metadata": {
        "colab": {
          "base_uri": "https://localhost:8080/",
          "height": 0
        },
        "id": "TaSXdF3hhoOV",
        "outputId": "42f0cecf-c3bd-41ae-9931-ea1a133014b0"
      },
      "execution_count": 7,
      "outputs": [
        {
          "output_type": "stream",
          "name": "stdout",
          "text": [
            "Found 3251 images belonging to 3 classes.\n",
            "Found 416 images belonging to 3 classes.\n",
            "Found 405 images belonging to 3 classes.\n"
          ]
        }
      ]
    },
    {
      "cell_type": "code",
      "source": [
        "val_data[0][0].shape"
      ],
      "metadata": {
        "colab": {
          "base_uri": "https://localhost:8080/",
          "height": 0
        },
        "id": "PAVBJz7WnZZw",
        "outputId": "332dfa60-f487-4497-c151-f6eeab35aefd"
      },
      "execution_count": 10,
      "outputs": [
        {
          "output_type": "execute_result",
          "data": {
            "text/plain": [
              "(32, 224, 224, 3)"
            ]
          },
          "metadata": {},
          "execution_count": 10
        }
      ]
    },
    {
      "cell_type": "code",
      "source": [
        "from tensorflow.keras import Sequential\n",
        "from tensorflow.keras.layers import Dense, Flatten, Conv2D, MaxPool2D\n",
        "from tensorflow.keras.optimizers import Adam\n",
        "from tensorflow.keras.losses import CategoricalCrossentropy\n"
      ],
      "metadata": {
        "id": "CcS8cnd7kiyJ"
      },
      "execution_count": 8,
      "outputs": []
    },
    {
      "cell_type": "code",
      "source": [
        "vgg3 = Sequential([\n",
        "    Conv2D(10, 3, activation='relu', input_shape= (224, 224, 3)),\n",
        "    Conv2D(10, 3, activation='relu'),\n",
        "    MaxPool2D(),\n",
        "    Conv2D(10, 3, activation='relu'),\n",
        "    Conv2D(10, 3, activation='relu'),\n",
        "    MaxPool2D(),\n",
        "    Conv2D(10, 3, activation='relu'),\n",
        "    Conv2D(10, 3, activation='relu'),\n",
        "    MaxPool2D(),\n",
        "    Flatten(),\n",
        "    Dense(32, activation='relu'),\n",
        "    Dense(3, activation='softmax')\n",
        "])\n",
        "\n",
        "vgg3.compile(\n",
        "    loss = CategoricalCrossentropy(),\n",
        "    optimizer = Adam(learning_rate=0.001),\n",
        "    metrics = ['accuracy']\n",
        ")\n",
        "\n",
        "history = vgg3.fit(train_data, epochs=15, steps_per_epoch=len(train_data),\n",
        "        validation_data=val_data, validation_steps=len(val_data))"
      ],
      "metadata": {
        "colab": {
          "base_uri": "https://localhost:8080/",
          "height": 0
        },
        "id": "UHTblRP1rgFb",
        "outputId": "12509718-0589-46c1-af43-b558b9e00ed6"
      },
      "execution_count": 28,
      "outputs": [
        {
          "output_type": "stream",
          "name": "stdout",
          "text": [
            "Epoch 1/15\n",
            "102/102 [==============================] - 45s 411ms/step - loss: 1.0278 - accuracy: 0.4460 - val_loss: 0.9304 - val_accuracy: 0.5120\n",
            "Epoch 2/15\n",
            "102/102 [==============================] - 41s 404ms/step - loss: 0.8909 - accuracy: 0.6054 - val_loss: 0.9306 - val_accuracy: 0.5481\n",
            "Epoch 3/15\n",
            "102/102 [==============================] - 40s 396ms/step - loss: 0.8594 - accuracy: 0.6149 - val_loss: 0.8956 - val_accuracy: 0.6010\n",
            "Epoch 4/15\n",
            "102/102 [==============================] - 40s 396ms/step - loss: 0.7358 - accuracy: 0.6890 - val_loss: 0.8088 - val_accuracy: 0.6755\n",
            "Epoch 5/15\n",
            "102/102 [==============================] - 41s 405ms/step - loss: 0.6728 - accuracy: 0.7250 - val_loss: 0.5679 - val_accuracy: 0.7861\n",
            "Epoch 6/15\n",
            "102/102 [==============================] - 40s 395ms/step - loss: 0.6757 - accuracy: 0.7339 - val_loss: 0.7172 - val_accuracy: 0.6827\n",
            "Epoch 7/15\n",
            "102/102 [==============================] - 40s 396ms/step - loss: 0.7583 - accuracy: 0.6739 - val_loss: 0.8981 - val_accuracy: 0.5697\n",
            "Epoch 8/15\n",
            "102/102 [==============================] - 42s 409ms/step - loss: 0.7282 - accuracy: 0.6958 - val_loss: 0.4693 - val_accuracy: 0.8317\n",
            "Epoch 9/15\n",
            "102/102 [==============================] - 42s 411ms/step - loss: 0.5964 - accuracy: 0.7847 - val_loss: 0.7918 - val_accuracy: 0.6971\n",
            "Epoch 10/15\n",
            "102/102 [==============================] - 41s 403ms/step - loss: 0.5345 - accuracy: 0.7976 - val_loss: 0.3418 - val_accuracy: 0.8558\n",
            "Epoch 11/15\n",
            "102/102 [==============================] - 42s 411ms/step - loss: 0.4049 - accuracy: 0.8576 - val_loss: 0.2845 - val_accuracy: 0.8894\n",
            "Epoch 12/15\n",
            "102/102 [==============================] - 41s 403ms/step - loss: 0.3482 - accuracy: 0.8773 - val_loss: 0.2012 - val_accuracy: 0.9255\n",
            "Epoch 13/15\n",
            "102/102 [==============================] - 42s 411ms/step - loss: 0.2718 - accuracy: 0.9025 - val_loss: 0.1941 - val_accuracy: 0.9207\n",
            "Epoch 14/15\n",
            "102/102 [==============================] - 40s 396ms/step - loss: 0.2574 - accuracy: 0.9083 - val_loss: 0.1672 - val_accuracy: 0.9423\n",
            "Epoch 15/15\n",
            "102/102 [==============================] - 42s 407ms/step - loss: 0.2426 - accuracy: 0.9188 - val_loss: 0.1852 - val_accuracy: 0.9207\n"
          ]
        }
      ]
    },
    {
      "cell_type": "code",
      "source": [
        "vgg3.evaluate(test_data)"
      ],
      "metadata": {
        "colab": {
          "base_uri": "https://localhost:8080/",
          "height": 0
        },
        "id": "IQwASZSdSfFY",
        "outputId": "72167489-668f-4676-82cd-3980a1587876"
      },
      "execution_count": 30,
      "outputs": [
        {
          "output_type": "stream",
          "name": "stdout",
          "text": [
            "13/13 [==============================] - 1s 88ms/step - loss: 0.1948 - accuracy: 0.9284\n"
          ]
        },
        {
          "output_type": "execute_result",
          "data": {
            "text/plain": [
              "[0.19481322169303894, 0.9283950328826904]"
            ]
          },
          "metadata": {},
          "execution_count": 30
        }
      ]
    },
    {
      "cell_type": "code",
      "source": [
        "import pandas as pd\n",
        "import matplotlib.pyplot as plt\n",
        "\n",
        "\n",
        "def plot_loss(history):\n",
        "  df = pd.DataFrame(history.history)\n",
        "  df[['loss', 'accuracy']].plot()\n",
        "\n",
        "  plt.figure()\n",
        "  df[['val_loss', 'val_accuracy']].plot()"
      ],
      "metadata": {
        "id": "ZbAqY6yur2wr"
      },
      "execution_count": 9,
      "outputs": []
    },
    {
      "cell_type": "code",
      "source": [
        "plot_loss(history)"
      ],
      "metadata": {
        "colab": {
          "base_uri": "https://localhost:8080/",
          "height": 861
        },
        "id": "8ykg4iv0uUkk",
        "outputId": "f9e5b9e7-a822-42ea-f684-8d2a9b5182dc"
      },
      "execution_count": 18,
      "outputs": [
        {
          "output_type": "display_data",
          "data": {
            "text/plain": [
              "<Figure size 640x480 with 1 Axes>"
            ],
            "image/png": "[encoded data removed]"
          },
          "metadata": {}
        },
        {
          "output_type": "display_data",
          "data": {
            "text/plain": [
              "<Figure size 640x480 with 0 Axes>"
            ]
          },
          "metadata": {}
        },
        {
          "output_type": "display_data",
          "data": {
            "text/plain": [
              "<Figure size 640x480 with 1 Axes>"
            ],
            "image/png": "[encoded data removed]"
          },
          "metadata": {}
        }
      ]
    },
    {
      "cell_type": "code",
      "source": [
        "import tensorflow_hub as hub\n",
        "\n",
        "\n",
        "url = \"https://www.kaggle.com/models/tensorflow/efficientnet/frameworks/TensorFlow2/variations/b0-classification/versions/1\"\n",
        "efficien_net_feature_extractor = hub.KerasLayer(url,\n",
        "                                                trainable=False,\n",
        "                                                input_shape= (224, 224)+(3,))"
      ],
      "metadata": {
        "id": "oj8o_3JquZKz"
      },
      "execution_count": 17,
      "outputs": []
    },
    {
      "cell_type": "code",
      "source": [
        "efficient_net = Sequential([\n",
        "    efficien_net_feature_extractor,\n",
        "    Dense(16, activation='relu'),\n",
        "    Dense(16, activation='relu'),\n",
        "    Dense(3, activation='softmax')\n",
        "])\n",
        "\n",
        "efficient_net.compile(\n",
        "    loss = CategoricalCrossentropy(),\n",
        "    optimizer = Adam(learning_rate=0.001),\n",
        "    metrics = ['accuracy']\n",
        ")\n",
        "\n",
        "history = efficient_net.fit(train_data, epochs=15, steps_per_epoch=len(train_data),\n",
        "        validation_data=val_data, validation_steps=len(val_data))"
      ],
      "metadata": {
        "colab": {
          "base_uri": "https://localhost:8080/",
          "height": 0
        },
        "id": "FjJnIZKZA_Pt",
        "outputId": "6e917725-bff7-4198-d7ab-f0495ff5e9c5"
      },
      "execution_count": 26,
      "outputs": [
        {
          "output_type": "stream",
          "name": "stdout",
          "text": [
            "Epoch 1/15\n",
            "102/102 [==============================] - 50s 457ms/step - loss: 1.0728 - accuracy: 0.4146 - val_loss: 1.0415 - val_accuracy: 0.5168\n",
            "Epoch 2/15\n",
            "102/102 [==============================] - 46s 447ms/step - loss: 0.9553 - accuracy: 0.6527 - val_loss: 0.8928 - val_accuracy: 0.7019\n",
            "Epoch 3/15\n",
            "102/102 [==============================] - 42s 408ms/step - loss: 0.7757 - accuracy: 0.7355 - val_loss: 0.7197 - val_accuracy: 0.7837\n",
            "Epoch 4/15\n",
            "102/102 [==============================] - 43s 424ms/step - loss: 0.6304 - accuracy: 0.7742 - val_loss: 0.6099 - val_accuracy: 0.7957\n",
            "Epoch 5/15\n",
            "102/102 [==============================] - 42s 410ms/step - loss: 0.5329 - accuracy: 0.8247 - val_loss: 0.5249 - val_accuracy: 0.8606\n",
            "Epoch 6/15\n",
            "102/102 [==============================] - 42s 415ms/step - loss: 0.4650 - accuracy: 0.8514 - val_loss: 0.4736 - val_accuracy: 0.8582\n",
            "Epoch 7/15\n",
            "102/102 [==============================] - 43s 417ms/step - loss: 0.4232 - accuracy: 0.8582 - val_loss: 0.4398 - val_accuracy: 0.8462\n",
            "Epoch 8/15\n",
            "102/102 [==============================] - 42s 412ms/step - loss: 0.3903 - accuracy: 0.8813 - val_loss: 0.4045 - val_accuracy: 0.8822\n",
            "Epoch 9/15\n",
            "102/102 [==============================] - 43s 418ms/step - loss: 0.3729 - accuracy: 0.8831 - val_loss: 0.3824 - val_accuracy: 0.8846\n",
            "Epoch 10/15\n",
            "102/102 [==============================] - 42s 407ms/step - loss: 0.3507 - accuracy: 0.8936 - val_loss: 0.3536 - val_accuracy: 0.9087\n",
            "Epoch 11/15\n",
            "102/102 [==============================] - 42s 412ms/step - loss: 0.3274 - accuracy: 0.8960 - val_loss: 0.3464 - val_accuracy: 0.9014\n",
            "Epoch 12/15\n",
            "102/102 [==============================] - 43s 418ms/step - loss: 0.3101 - accuracy: 0.9074 - val_loss: 0.3196 - val_accuracy: 0.9087\n",
            "Epoch 13/15\n",
            "102/102 [==============================] - 42s 415ms/step - loss: 0.3010 - accuracy: 0.9123 - val_loss: 0.3135 - val_accuracy: 0.9159\n",
            "Epoch 14/15\n",
            "102/102 [==============================] - 42s 416ms/step - loss: 0.2936 - accuracy: 0.9003 - val_loss: 0.3084 - val_accuracy: 0.9062\n",
            "Epoch 15/15\n",
            "102/102 [==============================] - 43s 419ms/step - loss: 0.2908 - accuracy: 0.9120 - val_loss: 0.2901 - val_accuracy: 0.9159\n"
          ]
        }
      ]
    },
    {
      "cell_type": "code",
      "source": [
        "efficient_net.evaluate(test_data)"
      ],
      "metadata": {
        "colab": {
          "base_uri": "https://localhost:8080/",
          "height": 0
        },
        "id": "MMnNhBmLHs7R",
        "outputId": "5a01363f-6079-4262-a165-563bae412313"
      },
      "execution_count": 27,
      "outputs": [
        {
          "output_type": "stream",
          "name": "stdout",
          "text": [
            "13/13 [==============================] - 2s 154ms/step - loss: 0.2870 - accuracy: 0.9210\n"
          ]
        },
        {
          "output_type": "execute_result",
          "data": {
            "text/plain": [
              "[0.2870118319988251, 0.9209876656532288]"
            ]
          },
          "metadata": {},
          "execution_count": 27
        }
      ]
    },
    {
      "cell_type": "code",
      "source": [],
      "metadata": {
        "id": "aAAW07nTMgTX"
      },
      "execution_count": null,
      "outputs": []
    }
  ]
}